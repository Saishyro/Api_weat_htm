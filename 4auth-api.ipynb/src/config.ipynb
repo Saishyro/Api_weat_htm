{
 "cells": [
  {
   "cell_type": "markdown",
   "metadata": {},
   "source": []
  },
  {
   "cell_type": "markdown",
   "metadata": {},
   "source": [
    "esta clase permite el acceso al user interno de phpMyAdmin donde se generan y guardan los datos de los usuarios y sus passwords hasheados\n",
    "busca en el localhost del user root con el password 123456 en la DB flask_login donde se conectan las demas clases para verificar a los user que\n",
    "solicitan ingresar a la plataforma"
   ]
  },
  {
   "cell_type": "code",
   "execution_count": null,
   "metadata": {},
   "outputs": [],
   "source": [
    "class Config:\n",
    "    SECRET_KEY = 'B!1w8NAt1T^%kvhUI*S^'\n",
    "\n",
    "\n",
    "class DevelopmentConfig(Config):\n",
    "    DEBUG = True\n",
    "    MYSQL_HOST = 'localhost'\n",
    "    MYSQL_USER = 'root'\n",
    "    MYSQL_PASSWORD = '123456'\n",
    "    MYSQL_DB = 'flask_login'\n",
    "\n",
    "\n",
    "config = {\n",
    "    'development': DevelopmentConfig\n",
    "}"
   ]
  },
  {
   "cell_type": "markdown",
   "metadata": {},
   "source": []
  }
 ],
 "metadata": {
  "kernelspec": {
   "display_name": "Python 3.9.7 ('base')",
   "language": "python",
   "name": "python3"
  },
  "language_info": {
   "name": "python",
   "version": "3.9.7"
  },
  "orig_nbformat": 4,
  "vscode": {
   "interpreter": {
    "hash": "4d9defa72c2715dab9f7f172572cd30a1ab1a2083462d32ef96aadb7c6e0c73b"
   }
  }
 },
 "nbformat": 4,
 "nbformat_minor": 2
}
