{
 "cells": [
  {
   "cell_type": "markdown",
   "metadata": {},
   "source": [
    "esta clase permite conectarse a la DB de de phpAdmin para ingresar el login del usuario y verificar sus credenciales para poder obtener acceso"
   ]
  },
  {
   "cell_type": "code",
   "execution_count": null,
   "metadata": {},
   "outputs": [],
   "source": [
    "from .entities.User import User\n",
    "\n",
    "\n",
    "class ModelUser():\n",
    "\n",
    "    @classmethod\n",
    "    def login(self, db, user):\n",
    "        try:\n",
    "            cursor = db.connection.cursor()\n",
    "            sql = \"\"\"SELECT id, username, password, fullname FROM user \n",
    "                    WHERE username = '{}'\"\"\".format(user.username)\n",
    "            cursor.execute(sql)\n",
    "            row = cursor.fetchone()\n",
    "            if row != None:\n",
    "                user = User(row[0], row[1], User.check_password(row[2], user.password), row[3])\n",
    "                return user\n",
    "            else:\n",
    "                return None\n",
    "        except Exception as ex:\n",
    "            raise Exception(ex)\n",
    "\n"
   ]
  },
  {
   "cell_type": "markdown",
   "metadata": {},
   "source": [
    "este method permite obtener el id del user desde la DB generada previamente"
   ]
  },
  {
   "cell_type": "code",
   "execution_count": null,
   "metadata": {},
   "outputs": [],
   "source": [
    "@classmethod\n",
    "def get_by_id(self, db, id):\n",
    "        try:\n",
    "            cursor = db.connection.cursor()\n",
    "            sql = \"SELECT id, username, fullname FROM user WHERE id = {}\".format(id)\n",
    "            cursor.execute(sql)\n",
    "            row = cursor.fetchone()\n",
    "            if row != None:\n",
    "                return User(row[0], row[1], None, row[2])\n",
    "            else:\n",
    "                return None\n",
    "        except Exception as ex:\n",
    "            raise Exception(ex)"
   ]
  }
 ],
 "metadata": {
  "language_info": {
   "name": "python"
  },
  "orig_nbformat": 4
 },
 "nbformat": 4,
 "nbformat_minor": 2
}
