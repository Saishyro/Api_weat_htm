{
 "cells": [
  {
   "cell_type": "markdown",
   "metadata": {},
   "source": [
    "esta es la autenticación de los usuarios y se les genera un hash que les permite codificar sus contraseñas\n",
    "se importa check_password_hash de werkzeug y de flask_login se importa UserMixin"
   ]
  },
  {
   "cell_type": "code",
   "execution_count": null,
   "metadata": {},
   "outputs": [],
   "source": [
    "from werkzeug.security import check_password_hash\n",
    "from flask_login import UserMixin"
   ]
  },
  {
   "cell_type": "markdown",
   "metadata": {},
   "source": [
    "se crea la clase User y se definen los parametros a solicitar"
   ]
  },
  {
   "cell_type": "code",
   "execution_count": null,
   "metadata": {},
   "outputs": [],
   "source": [
    "class User(UserMixin):\n",
    "\n",
    "    def __init__(self, id, username, password, fullname=\"\") -> None:\n",
    "        self.id = id\n",
    "        self.username = username\n",
    "        self.password = password\n",
    "        self.fullname = fullname"
   ]
  },
  {
   "cell_type": "markdown",
   "metadata": {},
   "source": [
    "en la case method se verifica el password y se hashea para un sifrado mas seguro"
   ]
  },
  {
   "cell_type": "code",
   "execution_count": null,
   "metadata": {},
   "outputs": [],
   "source": [
    "@classmethod\n",
    "def check_password(self, hashed_password, password):\n",
    "    return check_password_hash(hashed_password, password)"
   ]
  }
 ],
 "metadata": {
  "kernelspec": {
   "display_name": "Python 3.9.7 ('base')",
   "language": "python",
   "name": "python3"
  },
  "language_info": {
   "name": "python",
   "version": "3.9.7"
  },
  "orig_nbformat": 4,
  "vscode": {
   "interpreter": {
    "hash": "4d9defa72c2715dab9f7f172572cd30a1ab1a2083462d32ef96aadb7c6e0c73b"
   }
  }
 },
 "nbformat": 4,
 "nbformat_minor": 2
}
