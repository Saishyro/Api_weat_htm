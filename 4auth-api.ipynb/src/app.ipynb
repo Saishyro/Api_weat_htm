{
 "cells": [
  {
   "cell_type": "markdown",
   "metadata": {},
   "source": [
    "este codigo es el main de las peticiones y de las renderisación de todas las plantillas utilizadas en el \n",
    "estas son las importaciones necesarias para el funcionamiento y requerimientos del codigo"
   ]
  },
  {
   "cell_type": "code",
   "execution_count": null,
   "metadata": {},
   "outputs": [],
   "source": [
    "from flask import Flask, render_template, request, redirect, url_for, flash\n",
    "from flask_mysqldb import MySQL\n",
    "from flask_wtf.csrf import CSRFProtect\n",
    "from flask_login import LoginManager, login_user, logout_user, login_required\n",
    "\n",
    "from config import config\n",
    "\n",
    "# Models:\n",
    "from models.ModelUser import ModelUser\n",
    "\n",
    "# Entities:\n",
    "from models.entities.User import User\n"
   ]
  },
  {
   "cell_type": "markdown",
   "metadata": {},
   "source": [
    "se genera el login manager para cargar los datos del usuario y permitir acceso a la plataforma\n",
    "el metodo genera un get y un posto para comunicar los permisos guardados"
   ]
  },
  {
   "cell_type": "code",
   "execution_count": null,
   "metadata": {},
   "outputs": [],
   "source": [
    "app = Flask(__name__)\n",
    "\n",
    "csrf = CSRFProtect()\n",
    "db = MySQL(app)\n",
    "login_manager_app = LoginManager(app)\n",
    "\n",
    "\n",
    "@login_manager_app.user_loader\n",
    "def load_user(id):\n",
    "    return ModelUser.get_by_id(db, id)\n",
    "\n",
    "\n",
    "@app.route('/')\n",
    "def index():\n",
    "    return redirect(url_for('login'))\n",
    "\n",
    "\n",
    "@app.route('/login', methods=['GET', 'POST'])\n",
    "def login():\n",
    "    if request.method == 'POST':\n",
    "        # print(request.form['username'])\n",
    "        # print(request.form['password'])\n",
    "        user = User(0, request.form['username'], request.form['password'])\n",
    "        logged_user = ModelUser.login(db, user)\n",
    "        if logged_user != None:\n",
    "            if logged_user.password:\n",
    "                login_user(logged_user)\n",
    "                return redirect(url_for('home'))\n",
    "            else:\n",
    "                flash(\"Invalid password...\")\n",
    "                return render_template('auth/login.html')\n",
    "        else:\n",
    "            flash(\"User not found...\")\n",
    "            return render_template('auth/login.html')\n",
    "    else:\n",
    "        return render_template('auth/login.html')\n"
   ]
  },
  {
   "cell_type": "markdown",
   "metadata": {},
   "source": [
    "este method permite el logout del user desde la ruta del home y solicita que se registre en caso de obtener un error de acceso del tipo 400"
   ]
  },
  {
   "cell_type": "code",
   "execution_count": null,
   "metadata": {},
   "outputs": [],
   "source": [
    "\n",
    "\n",
    "\n",
    "@app.route('/logout')\n",
    "def logout():\n",
    "    logout_user()\n",
    "    return redirect(url_for('login'))\n",
    "\n",
    "\n",
    "@app.route('/home')\n",
    "def home():\n",
    "    return render_template('home.html')\n",
    "\n",
    "\n",
    "@app.route('/protected')\n",
    "@login_required\n",
    "def protected():\n",
    "    return \"<h1>Esta es una vista protegida, solo para usuarios autenticados.</h1>\"\n",
    "\n",
    "\n",
    "def status_401(error):\n",
    "    return redirect(url_for('login'))\n",
    "\n",
    "\n",
    "def status_404(error):\n",
    "    return \"<h1>Página no encontrada</h1>\", 404\n",
    "\n",
    "\n",
    "if __name__ == '__main__':\n",
    "    app.config.from_object(config['development'])\n",
    "    csrf.init_app(app)\n",
    "    app.register_error_handler(401, status_401)\n",
    "    app.register_error_handler(404, status_404)\n",
    "    app.run()"
   ]
  }
 ],
 "metadata": {
  "kernelspec": {
   "display_name": "Python 3.9.7 ('base')",
   "language": "python",
   "name": "python3"
  },
  "language_info": {
   "name": "python",
   "version": "3.9.7"
  },
  "orig_nbformat": 4,
  "vscode": {
   "interpreter": {
    "hash": "4d9defa72c2715dab9f7f172572cd30a1ab1a2083462d32ef96aadb7c6e0c73b"
   }
  }
 },
 "nbformat": 4,
 "nbformat_minor": 2
}
