{
 "cells": [
  {
   "cell_type": "markdown",
   "metadata": {},
   "source": [
    "En esta seccion crearemos una base de datos en sql con los datos extraidos de la api openweathermap\n",
    "se importan las instrucciones desde dis y se importa las instrucciones y se renombra a sqllite3 como sql"
   ]
  },
  {
   "cell_type": "code",
   "execution_count": 22,
   "metadata": {},
   "outputs": [],
   "source": [
    "from dis import Instruction\n",
    "import sqlite3 as sql"
   ]
  },
  {
   "cell_type": "markdown",
   "metadata": {},
   "source": [
    "se crea la funcion que crea una base de datos llamada country en la extension .db que se conecta a sql\n",
    "luego se cierra la conección"
   ]
  },
  {
   "cell_type": "code",
   "execution_count": 23,
   "metadata": {},
   "outputs": [],
   "source": [
    "def createDB():\n",
    "    conn = sql.connect(\"country.db\")\n",
    "    conn.commit()\n",
    "    conn.close()\n"
   ]
  },
  {
   "cell_type": "markdown",
   "metadata": {},
   "source": [
    "se define la funcion que crea una tabla llamada city dentro de la base de datos country.db\n",
    "se definen columnas con datos de city, temp, wind, lat, len y descrip y el tipo de dato que permite cada columna"
   ]
  },
  {
   "cell_type": "code",
   "execution_count": 24,
   "metadata": {},
   "outputs": [],
   "source": [
    "def createTable():\n",
    "    conn = sql.connect(\"country.db\")\n",
    "    cursor = conn.cursor()\n",
    "    cursor.execute(\n",
    "        \"\"\"CREATE TABLE citys (\n",
    "            city text,\n",
    "            temp integer,\n",
    "            wind integer,\n",
    "            lat integer,\n",
    "            len integer,\n",
    "            descrip text\n",
    "        )\"\"\"\n",
    "    )\n",
    "    conn.commit()\n",
    "    conn.close()"
   ]
  },
  {
   "cell_type": "markdown",
   "metadata": {},
   "source": [
    "se define la instrucción para insertar los datos en cada columna"
   ]
  },
  {
   "cell_type": "code",
   "execution_count": 25,
   "metadata": {},
   "outputs": [],
   "source": [
    "def insertRow(city, temp, wind, lat, len, descrip):\n",
    "    conn = sql.connect(\"country.db\")\n",
    "    cursor = conn.cursor()\n",
    "    instruccion = f\"INSERT INTO citys VALUES ('{city}', {temp}, {wind}, {lat}, {len}, '{descrip}')\"\n",
    "    cursor.execute(instruccion)\n",
    "    conn.commit()\n",
    "    conn.close()\n"
   ]
  },
  {
   "cell_type": "markdown",
   "metadata": {},
   "source": [
    "se define donde se insertaran los 6 valores detallados en el paso anterior"
   ]
  },
  {
   "cell_type": "code",
   "execution_count": 26,
   "metadata": {},
   "outputs": [],
   "source": [
    "def insertRows(citylist):\n",
    "    conn = sql.connect(\"country.db\")\n",
    "    cursor = conn.cursor()\n",
    "    instruccion = f\"INSERT INTO citys VALUES (?, ?, ?, ?, ?, ?)\"\n",
    "    cursor.executemany(instruccion, citylist)\n",
    "    conn.commit()\n",
    "    conn.close()"
   ]
  },
  {
   "cell_type": "markdown",
   "metadata": {},
   "source": [
    "se declaran las 5 ciudades a insertar en las filas tabla y los respectivos datos de cada una de \n",
    "dichas ciudades que llenaran las columnas"
   ]
  },
  {
   "cell_type": "code",
   "execution_count": null,
   "metadata": {},
   "outputs": [],
   "source": [
    "if __name__ == \"__main__\":\n",
    "\n",
    "    citylist = [\n",
    "   (\"santiago\", 5.09, 0.40, -33.4569, -70.6483, \"light rain\"),\n",
    "   (\"buenos aires\", 10.13, 1.54, -34.6132, -58.3772, \"fog\"),\n",
    "   (\"roma\", 13.11, 0.89, 43.2128, -75.4557, \"clear sky\"),\n",
    "   (\"nueva york\", 23.4, 5.36, 40.7143, -74.006, \"overcast clouds\"),\n",
    "   (\"londres\", 17.77, 1.54, 51.5085, -0.1257, \"overcast clouds\")\n",
    "] \n",
    "\n",
    "insertRows(citylist)"
   ]
  }
 ],
 "metadata": {
  "kernelspec": {
   "display_name": "Python 3.9.7 ('base')",
   "language": "python",
   "name": "python3"
  },
  "language_info": {
   "codemirror_mode": {
    "name": "ipython",
    "version": 3
   },
   "file_extension": ".py",
   "mimetype": "text/x-python",
   "name": "python",
   "nbconvert_exporter": "python",
   "pygments_lexer": "ipython3",
   "version": "3.9.7"
  },
  "orig_nbformat": 4,
  "vscode": {
   "interpreter": {
    "hash": "4d9defa72c2715dab9f7f172572cd30a1ab1a2083462d32ef96aadb7c6e0c73b"
   }
  }
 },
 "nbformat": 4,
 "nbformat_minor": 2
}
