{
 "cells": [
  {
   "cell_type": "markdown",
   "metadata": {},
   "source": [
    "Se importan los requisitos desde la plataforma de la api openweathermap\n",
    "se hace una solicitud de la ciudad a consultar designando el imput por mdio de la peticion\n",
    "Enter you city\n",
    "se conecta a la apiu por medio de la url y la api key definida en la celda siguiente"
   ]
  },
  {
   "cell_type": "code",
   "execution_count": 4,
   "metadata": {},
   "outputs": [],
   "source": [
    "import requests\n",
    "\n",
    "city = input(\"Enter your city: \")\n",
    "\n",
    "url = \"http://api.openweathermap.org/data/2.5/weather?q={}&appid=d57f4d8b8ef679f69ad3ad819c0f9205&units=metric\".format(city)\n",
    "\n"
   ]
  },
  {
   "cell_type": "markdown",
   "metadata": {},
   "source": [
    "se define la accion get hacia la url\n",
    "se obtiene la data en formato json, el que se tranforma a un lenguaje que se pueda comprender con el archivo\n",
    "launch.json"
   ]
  },
  {
   "cell_type": "code",
   "execution_count": 5,
   "metadata": {},
   "outputs": [],
   "source": [
    "res = requests.get(url)\n",
    "data = res.json()\n",
    "\n",
    "temp = data[\"main\"][\"temp\"]\n",
    "wind_speed = data[\"wind\"][\"speed\"]\n",
    "\n",
    "latitude = data[\"coord\"][\"lat\"]\n",
    "longitude = data[\"coord\"][\"lon\"]\n",
    "\n",
    "description = data[\"weather\"][0][\"description\"]"
   ]
  },
  {
   "cell_type": "markdown",
   "metadata": {},
   "source": [
    "imprime los resultados solicitados "
   ]
  },
  {
   "cell_type": "code",
   "execution_count": 6,
   "metadata": {},
   "outputs": [
    {
     "name": "stdout",
     "output_type": "stream",
     "text": [
      "temperatura:  25.24\n",
      "velocidad del viento:  1 m/s\n",
      "latitud:  9\n",
      "longitud:  -80\n",
      "descripción: overcast clouds\n"
     ]
    }
   ],
   "source": [
    "print(\"temperatura: \", temp)\n",
    "print(\"velocidad del viento: \", wind_speed, \"m/s\")\n",
    "print(\"latitud: \", latitude)\n",
    "print(\"longitud: \", longitude)\n",
    "print(\"descripción:\", description)"
   ]
  }
 ],
 "metadata": {
  "kernelspec": {
   "display_name": "Python 3.9.7 ('base')",
   "language": "python",
   "name": "python3"
  },
  "language_info": {
   "codemirror_mode": {
    "name": "ipython",
    "version": 3
   },
   "file_extension": ".py",
   "mimetype": "text/x-python",
   "name": "python",
   "nbconvert_exporter": "python",
   "pygments_lexer": "ipython3",
   "version": "3.9.7"
  },
  "orig_nbformat": 4,
  "vscode": {
   "interpreter": {
    "hash": "4d9defa72c2715dab9f7f172572cd30a1ab1a2083462d32ef96aadb7c6e0c73b"
   }
  }
 },
 "nbformat": 4,
 "nbformat_minor": 2
}
