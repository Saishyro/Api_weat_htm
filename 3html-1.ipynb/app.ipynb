{
 "cells": [
  {
   "cell_type": "markdown",
   "metadata": {},
   "source": [
    "se importan las librerias y requisitos del framework Flask"
   ]
  },
  {
   "cell_type": "code",
   "execution_count": 1,
   "metadata": {},
   "outputs": [
    {
     "ename": "ModuleNotFoundError",
     "evalue": "No module named 'Models'",
     "output_type": "error",
     "traceback": [
      "\u001b[1;31m---------------------------------------------------------------------------\u001b[0m",
      "\u001b[1;31mModuleNotFoundError\u001b[0m                       Traceback (most recent call last)",
      "\u001b[1;32m~\\AppData\\Local\\Temp/ipykernel_19284/739481949.py\u001b[0m in \u001b[0;36m<module>\u001b[1;34m\u001b[0m\n\u001b[0;32m      2\u001b[0m \u001b[1;32mfrom\u001b[0m \u001b[0mflask\u001b[0m \u001b[1;32mimport\u001b[0m \u001b[0mjsonify\u001b[0m\u001b[1;33m\u001b[0m\u001b[1;33m\u001b[0m\u001b[0m\n\u001b[0;32m      3\u001b[0m \u001b[1;32mfrom\u001b[0m \u001b[0mlogging\u001b[0m \u001b[1;32mimport\u001b[0m \u001b[0mexception\u001b[0m\u001b[1;33m\u001b[0m\u001b[1;33m\u001b[0m\u001b[0m\n\u001b[1;32m----> 4\u001b[1;33m \u001b[1;32mfrom\u001b[0m \u001b[0mModels\u001b[0m \u001b[1;32mimport\u001b[0m \u001b[0mdb\u001b[0m\u001b[1;33m,\u001b[0m \u001b[0mPaises\u001b[0m\u001b[1;33m\u001b[0m\u001b[1;33m\u001b[0m\u001b[0m\n\u001b[0m\u001b[0;32m      5\u001b[0m \u001b[1;32mfrom\u001b[0m \u001b[0mflask\u001b[0m \u001b[1;32mimport\u001b[0m \u001b[0mrequest\u001b[0m\u001b[1;33m\u001b[0m\u001b[1;33m\u001b[0m\u001b[0m\n\u001b[0;32m      6\u001b[0m \u001b[1;32mfrom\u001b[0m \u001b[0mflask\u001b[0m \u001b[1;32mimport\u001b[0m \u001b[0mrender_template\u001b[0m\u001b[1;33m\u001b[0m\u001b[1;33m\u001b[0m\u001b[0m\n",
      "\u001b[1;31mModuleNotFoundError\u001b[0m: No module named 'Models'"
     ]
    }
   ],
   "source": [
    "from flask import Flask\n",
    "from flask import jsonify\n",
    "from logging import exception\n",
    "from Models import db, Paises\n",
    "from flask import request\n",
    "from flask import render_template"
   ]
  },
  {
   "cell_type": "markdown",
   "metadata": {},
   "source": [
    "se fedine la URI o conección a la DB paiswe.db"
   ]
  },
  {
   "cell_type": "code",
   "execution_count": null,
   "metadata": {},
   "outputs": [
    {
     "ename": "",
     "evalue": "",
     "output_type": "error",
     "traceback": [
      "\u001b[1;31mNo se pudo iniciar el Kernel. \n",
      "No se puede iniciar Kernel 'base (Python 3.9.7)' porque se agotó el tiempo de espera de la conexión. \r\n",
      "Vea el [registro] de Jupyter (command:jupyter.viewOutput) para obtener más detalles."
     ]
    }
   ],
   "source": [
    "app = Flask(__name__)\n",
    "app.config[\"SQLALCHEMY_DATABASE_URI\"] = \"sqlite:///BData\\\\paiswe.db\"\n",
    "app.config[\"SQLALCHEMY_TRACK_MODIFICATIONS\"] = False\n",
    "db.init_app(app)"
   ]
  },
  {
   "cell_type": "markdown",
   "metadata": {},
   "source": [
    "se define la ruta hacia las plantillas html a utilizar "
   ]
  },
  {
   "cell_type": "code",
   "execution_count": null,
   "metadata": {},
   "outputs": [
    {
     "ename": "",
     "evalue": "",
     "output_type": "error",
     "traceback": [
      "\u001b[1;31mNo se pudo iniciar el Kernel. \n",
      "No se puede iniciar Kernel 'base (Python 3.9.7)' porque se agotó el tiempo de espera de la conexión. \r\n",
      "Vea el [registro] de Jupyter (command:jupyter.viewOutput) para obtener más detalles."
     ]
    }
   ],
   "source": [
    "@app.route(\"/\")\n",
    "def home():\n",
    "    return render_template(\"searchcity.html\")"
   ]
  },
  {
   "cell_type": "markdown",
   "metadata": {},
   "source": [
    "se define la ruta de peticion de datos por medio de la libreria jsonify propia de flask"
   ]
  },
  {
   "cell_type": "code",
   "execution_count": null,
   "metadata": {},
   "outputs": [
    {
     "ename": "",
     "evalue": "",
     "output_type": "error",
     "traceback": [
      "\u001b[1;31mNo se pudo iniciar el Kernel. \n",
      "No se puede iniciar Kernel 'base (Python 3.9.7)' porque se agotó el tiempo de espera de la conexión. \r\n",
      "Vea el [registro] de Jupyter (command:jupyter.viewOutput) para obtener más detalles."
     ]
    }
   ],
   "source": [
    "@app.route(\"/api/paises\")\n",
    "def getPaises():\n",
    "    try:\n",
    "        paises = Paises.query.all()\n",
    "        toReturn = [pais.serialize() for pais in paises]\n",
    "        return jsonify(toReturn), 200\n",
    "    except Exception:\n",
    "        exception(\"[SERVER]: ERROR\")\n",
    "        return jsonify({\"msg\": \"ERROR\"}), 500"
   ]
  },
  {
   "cell_type": "markdown",
   "metadata": {},
   "source": [
    "se define el tipo de petición que permitira realizar el codigo\n",
    "realizara la busqueda por nombre de ciudad"
   ]
  },
  {
   "cell_type": "code",
   "execution_count": null,
   "metadata": {},
   "outputs": [
    {
     "ename": "",
     "evalue": "",
     "output_type": "error",
     "traceback": [
      "\u001b[1;31mNo se pudo iniciar el Kernel. \n",
      "No se puede iniciar Kernel 'base (Python 3.9.7)' porque se agotó el tiempo de espera de la conexión. \r\n",
      "Vea el [registro] de Jupyter (command:jupyter.viewOutput) para obtener más detalles."
     ]
    }
   ],
   "source": [
    "@app.route(\"/api/pais\", methods=[\"GET\"])\n",
    "def getPaisUnit():\n",
    "    try:\n",
    "        nameCity = request.args[\"city\"]\n",
    "        pais = Paises.query.filter_by(city=nameCity).first()\n",
    "        if not pais:\n",
    "            return jsonify({\"msg\": \"CIUDAD NO EXISTE EN BD\"}), 200\n",
    "        else:\n",
    "            return jsonify(pais.serialize()), 200\n",
    "    except Exception:\n",
    "        exception(\"[SERVER]: ERROR\")\n",
    "        return jsonify({\"msg\": \"***ERROR*\"}), 500"
   ]
  },
  {
   "cell_type": "markdown",
   "metadata": {},
   "source": [
    "se define la respuesta que entregara y la excepción en caso de falla de codigo\n",
    "entregara resultados basado en similitudes a los nombres de paises ingresados \n",
    "dara como resultado interno un codigo 200 si la busqueda es correcta y un codigo de ejcución 500 si la busqueda es incorrecta"
   ]
  },
  {
   "cell_type": "code",
   "execution_count": null,
   "metadata": {},
   "outputs": [
    {
     "ename": "",
     "evalue": "",
     "output_type": "error",
     "traceback": [
      "\u001b[1;31mNo se pudo iniciar el Kernel. \n",
      "No se puede iniciar Kernel 'base (Python 3.9.7)' porque se agotó el tiempo de espera de la conexión. \r\n",
      "Vea el [registro] de Jupyter (command:jupyter.viewOutput) para obtener más detalles."
     ]
    }
   ],
   "source": [
    "@app.route(\"/api/searchcity\", methods=[\"POST\"])\n",
    "def searchCityForm():\n",
    "    try:\n",
    "        nameCity = request.form[\"city\"]\n",
    "        pais = Paises.query.filter(Paises.city.like(f\"%{nameCity}%\")).first()\n",
    "        if not pais:\n",
    "            return jsonify({\"msg\": \"CIUDAD NO EXISTE EN BD\"}), 200\n",
    "        else:\n",
    "            return jsonify(pais.serialize()), 200\n",
    "    except Exception:\n",
    "        exception(\"[SERVER]: ERROR\")\n",
    "        return jsonify({\"msg\": \"*ERROR***\"}), 500\n"
   ]
  },
  {
   "cell_type": "markdown",
   "metadata": {},
   "source": [
    "el menu de raiz esta alojado en un puerto 4000 y generará actualización de modicicaciones automaticamente para agilizar el trabajo"
   ]
  },
  {
   "cell_type": "code",
   "execution_count": null,
   "metadata": {},
   "outputs": [
    {
     "ename": "",
     "evalue": "",
     "output_type": "error",
     "traceback": [
      "\u001b[1;31mNo se pudo iniciar el Kernel. \n",
      "No se puede iniciar Kernel 'base (Python 3.9.7)' porque se agotó el tiempo de espera de la conexión. \r\n",
      "Vea el [registro] de Jupyter (command:jupyter.viewOutput) para obtener más detalles."
     ]
    }
   ],
   "source": [
    "if __name__==\"__main__\":\n",
    "    app.run(debug=True, port=4000)"
   ]
  }
 ],
 "metadata": {
  "kernelspec": {
   "display_name": "Python 3.9.7 ('base')",
   "language": "python",
   "name": "python3"
  },
  "language_info": {
   "codemirror_mode": {
    "name": "ipython",
    "version": 3
   },
   "file_extension": ".py",
   "mimetype": "text/x-python",
   "name": "python",
   "nbconvert_exporter": "python",
   "pygments_lexer": "ipython3",
   "version": "3.9.7"
  },
  "orig_nbformat": 4,
  "vscode": {
   "interpreter": {
    "hash": "4d9defa72c2715dab9f7f172572cd30a1ab1a2083462d32ef96aadb7c6e0c73b"
   }
  }
 },
 "nbformat": 4,
 "nbformat_minor": 2
}
