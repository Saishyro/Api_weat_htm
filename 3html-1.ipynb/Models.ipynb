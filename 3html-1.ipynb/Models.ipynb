{
 "cells": [
  {
   "cell_type": "markdown",
   "metadata": {},
   "source": []
  },
  {
   "cell_type": "code",
   "execution_count": null,
   "metadata": {},
   "outputs": [],
   "source": [
    "from flask_sqlalchemy import SQLAlchemy\n",
    "\n",
    "db = SQLAlchemy()"
   ]
  },
  {
   "cell_type": "markdown",
   "metadata": {},
   "source": []
  },
  {
   "cell_type": "code",
   "execution_count": null,
   "metadata": {},
   "outputs": [],
   "source": [
    "class Paises(db.Model):\n",
    "    rowid = db.Column(db.Integer, primary_key=True)\n",
    "    city = db.Column(db.String(300), unique=True, nullable=False)\n",
    "    temp = db.Column(db.Integer)\n",
    "    wind = db.Column(db.Integer)\n",
    "    lat = db.Column(db.Integer)\n",
    "    lon = db.Column(db.Integer)\n",
    "    descrip = db.Column(db.String(300), unique=True, nullable=False)"
   ]
  },
  {
   "cell_type": "markdown",
   "metadata": {},
   "source": []
  },
  {
   "cell_type": "code",
   "execution_count": null,
   "metadata": {},
   "outputs": [],
   "source": [
    "def __init__(self, city, temp, wind, lat, lon, descrip):\n",
    "        super().__init__()\n",
    "        self.city = city\n",
    "        self.temp = temp\n",
    "        self.lat = lat\n",
    "        self.lon = lon\n",
    "        self.descrip = descrip\n"
   ]
  },
  {
   "cell_type": "markdown",
   "metadata": {},
   "source": []
  },
  {
   "cell_type": "code",
   "execution_count": null,
   "metadata": {},
   "outputs": [],
   "source": [
    "def __str__(self):\n",
    "        return \"City: {}. Temp: {}. Wind: {}. Lat: {}. Lon: {}. Descrip: {}\".format(\n",
    "            self.city,\n",
    "            self.temp,\n",
    "            self.wind,\n",
    "            self.lat,\n",
    "            self.lon,\n",
    "            self.descrip\n",
    "        )"
   ]
  },
  {
   "cell_type": "markdown",
   "metadata": {},
   "source": []
  },
  {
   "cell_type": "code",
   "execution_count": null,
   "metadata": {},
   "outputs": [],
   "source": [
    "def serialize(self):\n",
    "        return{\n",
    "            \"rowid\": self.rowid,\n",
    "            \"city\": self.city,\n",
    "            \"temp\": self.temp,\n",
    "            \"wind\": self.wind,\n",
    "            \"lat\": self.lat,\n",
    "            \"lon\": self.lon,\n",
    "            \"descrip\": self.descrip\n",
    "        }"
   ]
  }
 ],
 "metadata": {
  "kernelspec": {
   "display_name": "Python 3.9.7 ('base')",
   "language": "python",
   "name": "python3"
  },
  "language_info": {
   "name": "python",
   "version": "3.9.7"
  },
  "orig_nbformat": 4,
  "vscode": {
   "interpreter": {
    "hash": "4d9defa72c2715dab9f7f172572cd30a1ab1a2083462d32ef96aadb7c6e0c73b"
   }
  }
 },
 "nbformat": 4,
 "nbformat_minor": 2
}
