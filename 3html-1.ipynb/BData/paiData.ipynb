{
 "cells": [
  {
   "cell_type": "markdown",
   "metadata": {},
   "source": [
    "Importamos sqlite3 y se le asigna la abreviación sql\n",
    "se define la ruta de conección a la DB paiswe.db donce se extraeran los datos consultados desde la pagina del host"
   ]
  },
  {
   "cell_type": "code",
   "execution_count": null,
   "metadata": {},
   "outputs": [],
   "source": [
    "import sqlite3 as sql\n",
    "DB_PATH = \"C:\\\\Users\\\\danie\\\\Desktop\\\\apifinal\\\\BData\\\\paiswe.db\""
   ]
  },
  {
   "cell_type": "markdown",
   "metadata": {},
   "source": [
    "se define la funcion que crea la DB, se conecta por medio de sql y se deinen los parametros en los que entregara la información"
   ]
  },
  {
   "cell_type": "code",
   "execution_count": null,
   "metadata": {},
   "outputs": [],
   "source": [
    "def createDB():\n",
    "    conn = sql.connect(DB_PATH)\n",
    "    cursor = conn.cursor()\n",
    "    cursor.execute(\"\"\"CREATE TABLE paises (\n",
    "        city text,\n",
    "        temp integer,\n",
    "        wind integer,\n",
    "        lat integer,\n",
    "        lon integer,\n",
    "        descrip text\n",
    "    )\"\"\")\n",
    "    conn.commit()\n",
    "    conn.close()"
   ]
  },
  {
   "cell_type": "markdown",
   "metadata": {},
   "source": [
    "se definen los valores que se insertaran en la tabla a crearse en la DB paiswe.db"
   ]
  },
  {
   "cell_type": "code",
   "execution_count": null,
   "metadata": {},
   "outputs": [],
   "source": [
    "def addValues():\n",
    "    conn = sql.connect(DB_PATH)\n",
    "    cursor = conn.cursor()\n",
    "    data = [\n",
    "        (\"santiago\", 5.09, 0.43, -33.4569, -70.6483, \"light rain\"),\n",
    "        (\"buenos aires\", 10.13, 1.54, -34.6132, -58.3772, \"fog\"),\n",
    "        (\"roma\", 13.11, 0.89, 43.2128, -75.4557, \"clear sky\"),\n",
    "        (\"nueva york\", 23.4, 5.36, 40.7143, -74.006, \"overcast clouds\"),\n",
    "        (\"londres\", 17.77, 1.54, 51.5085, -0.1257, \"overcast clouds\"),\n",
    "    ]\n",
    "    cursor.executemany(\"\"\"INSERT INTO paises VALUES (?, ?, ?, ?, ?, ?)\"\"\", data)\n",
    "    conn.commit()\n",
    "    conn.close()"
   ]
  },
  {
   "cell_type": "markdown",
   "metadata": {},
   "source": [
    "se crea como menu raiz la creación de la DB y la inserción de los valores en su tabla de datos"
   ]
  },
  {
   "cell_type": "code",
   "execution_count": null,
   "metadata": {},
   "outputs": [],
   "source": [
    "if __name__== \"__main__\":\n",
    "    createDB()\n",
    "    addValues()"
   ]
  }
 ],
 "metadata": {
  "kernelspec": {
   "display_name": "Python 3.9.7 ('base')",
   "language": "python",
   "name": "python3"
  },
  "language_info": {
   "name": "python",
   "version": "3.9.7"
  },
  "orig_nbformat": 4,
  "vscode": {
   "interpreter": {
    "hash": "4d9defa72c2715dab9f7f172572cd30a1ab1a2083462d32ef96aadb7c6e0c73b"
   }
  }
 },
 "nbformat": 4,
 "nbformat_minor": 2
}
